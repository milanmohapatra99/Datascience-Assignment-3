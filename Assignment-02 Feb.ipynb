{
 "cells": [
  {
   "cell_type": "markdown",
   "id": "453b9455-76d7-4259-a4b7-0362f80ac3f6",
   "metadata": {},
   "source": [
    "Q.1 Explain with an example each when to use a for loop and while loop ?"
   ]
  },
  {
   "cell_type": "code",
   "execution_count": null,
   "id": "f6f6b14d-cba1-4ec2-856f-c56ec5bebb09",
   "metadata": {},
   "outputs": [],
   "source": [
    "For loop:- \n",
    "=>A for loop is a control flow statement that executes code repeatedly for a particular number of iterations. In this\n",
    "    control flow statement, the for keyword is used  . \n",
    "=> The for loop is used when the number of iterations is already known.\n",
    "\n",
    "=> The for loop is used when we already know the number of iterations, which means when we know how many times a statement has to be executed. \n",
    " That is why we have to specify the ending point in the for loop initialization.\n",
    "\n",
    "Syntax:-\n",
    "sequence = [True, True] # Initialization\n",
    "for iterator_var in sequence: # Condition and Updation\n",
    "    statements(s) # Body of loop\n",
    "    \n",
    "e.g:-\n",
    "n = [1, 2, 3]  # Initialization\n",
    "for i in n:  # Condition and Updation\n",
    "    print(i)\n",
    "\n",
    "While loop:-\n",
    "=> A loop that executes a single statement or a group of statements for the given true condition. The \"while\" keyword is \n",
    " used to represent this loop . A \"while\" loop is used when the number of iterations is unknown. The statement repeats\n",
    " itself till the boolean value becomes false. \n",
    "=> In a while loop, the condition is tested at the start, also known as the pre-test loop.\n",
    "\n",
    "=> When we need to end the loop on a condition other than the number of times, we use a while loop. In this case, it\n",
    "is not necessary to know the condition beforehand.That is why we can give a boolean expression in the initialization of the loop.\n",
    "\n",
    "syntax:-\n",
    "expression = True # Initialization\n",
    "while expression: # Condition\n",
    "    statement(s) # Body of loop\n",
    "    \n",
    "e.g:-\n",
    "i = 1  # Initialization\n",
    "while i < 6:  # Condition\n",
    "    print(i)\n",
    "    i += 1  # Updation"
   ]
  },
  {
   "cell_type": "markdown",
   "id": "3136e990-bcd5-4224-b357-cb200b1469d7",
   "metadata": {},
   "source": [
    "Q.2 Write a program to print the sum and product of the first 10 natural numbers using for and while loop ?"
   ]
  },
  {
   "cell_type": "code",
   "execution_count": 2,
   "id": "7b608a55-4ae2-42c8-9720-407afcca7fe6",
   "metadata": {},
   "outputs": [
    {
     "name": "stdout",
     "output_type": "stream",
     "text": [
      "sum of 10 natural number is 55\n",
      "product of 10 natural number is 3628800\n"
     ]
    }
   ],
   "source": [
    "# By using for loop\n",
    "sum = 0\n",
    "prod = 1\n",
    "for i in range(1,11):\n",
    "    sum = sum + i\n",
    "    prod = prod * i\n",
    "print(\"sum of 10 natural number is\",sum)\n",
    "print(\"product of 10 natural number is\",prod)\n",
    "    \n",
    "    "
   ]
  },
  {
   "cell_type": "code",
   "execution_count": 5,
   "id": "768094d9-72a5-431d-9541-226a7d4585e6",
   "metadata": {},
   "outputs": [
    {
     "name": "stdout",
     "output_type": "stream",
     "text": [
      "sum of 10 natural number is 55\n",
      "product of 10 natural number is 3628800\n"
     ]
    }
   ],
   "source": [
    "# By using While loop\n",
    "num = 1\n",
    "sum = 0\n",
    "prod = 1\n",
    "while (num <= 10):\n",
    "    \n",
    "    sum = sum + num\n",
    "    prod = prod * num\n",
    "    num += 1\n",
    "print(\"sum of 10 natural number is\",sum)\n",
    "print(\"product of 10 natural number is\",prod)"
   ]
  },
  {
   "cell_type": "markdown",
   "id": "8fdcb49b-9fb8-4756-8359-4b076033c4a4",
   "metadata": {},
   "source": [
    "Q.3 Create a python program to compute the electricity bill for a household.\n",
    "The per-unit charges in rupees are as follows :\n",
    "for the first 100 units , the user will be charged Rs, 4.5 per unit,for the next \n",
    "100units,the user will harges Rs, 6 per unit,and for the next 100 units,\n",
    "the user will be charged Rs.10 per unit,After 300 units and above the user will be charged Rs.10 per unit.\n",
    "after 300 unit and above the user will be charged Rs.20 per unit.\n",
    "\n",
    "You required to take units of electricity consumed in a month from the user as input.\n",
    "\n",
    "Your program must pass this test case:when the unit of electricity consumed by the user in a month is 310,the total electricity bill should be 2250."
   ]
  },
  {
   "cell_type": "code",
   "execution_count": 7,
   "id": "4659ad43-3f97-4391-8339-d31958590338",
   "metadata": {},
   "outputs": [
    {
     "name": "stdin",
     "output_type": "stream",
     "text": [
      "Enter The Unit:- 310\n"
     ]
    },
    {
     "name": "stdout",
     "output_type": "stream",
     "text": [
      "Your amount is Rs. 2250.0\n"
     ]
    }
   ],
   "source": [
    "#Taking unit Input from user\n",
    "bill = int(input(\"Enter The Unit:-\"))\n",
    "#Checking Condition\n",
    "if bill > 0 and bill <= 100:\n",
    "    amt = bill * 4.5\n",
    "    print(\"Your amount is Rs.\",amt)\n",
    "\n",
    "elif bill > 100 and bill <= 200 :\n",
    "    amt = 100 * 4.5 + (bill -100) * 6\n",
    "    print(\"Your amount is Rs.\",amt)\n",
    "    \n",
    "elif bill > 200 and bill <= 300 :\n",
    "    amt = 100 * 4.5 + 100 * 6 + (bill -200) * 10\n",
    "    print(\"Your amount is Rs.\",amt)\n",
    "    \n",
    "else :\n",
    "    amt = 100 * 4.5 + 100 * 6 + 100 * 10 + (bill - 300 ) * 20\n",
    "    print(\"Your amount is Rs.\",amt)\n",
    "\n",
    "    "
   ]
  },
  {
   "cell_type": "markdown",
   "id": "0c812e35-3804-486b-ab50-68c11e9d2402",
   "metadata": {},
   "source": [
    "Q.4 Create a list of numbers from 1 to 100. use for loop and while loop to calculate the cube of each number and if the cube of that number is divisible by 4 or 5 then append that number in a list and print that list. "
   ]
  },
  {
   "cell_type": "code",
   "execution_count": 28,
   "id": "eb7bb24d-d930-415e-9212-9e083145c9e8",
   "metadata": {},
   "outputs": [
    {
     "name": "stdout",
     "output_type": "stream",
     "text": [
      "The cube of numbers is divisible by 4 or 5 from 1-100 :- [64, 125, 512, 1000, 1728, 3375, 4096, 8000, 13824, 15625, 21952, 27000, 32768, 42875, 46656, 64000, 85184, 91125, 110592, 125000, 140608, 166375, 175616, 216000, 262144, 274625, 314432, 343000, 373248, 421875, 438976, 512000, 592704, 614125, 681472, 729000, 778688, 857375, 884736, 1000000]\n"
     ]
    }
   ],
   "source": [
    "# For loop\n",
    "#Creating Empty list\n",
    "l = []\n",
    "res = []\n",
    "#checking number from 1 to 100\n",
    "for i in range(1,101):\n",
    "#appending range in list\n",
    "    l.append(i)\n",
    "    cube_root = i ** 3\n",
    "#checking condition if no divisible by 4 or 5    \n",
    "    if i % 4 == 0 or i % 5 == 0:\n",
    "#appending result \n",
    "        res.append(cube_root)\n",
    "print(\"The cube of numbers is divisible by 4 or 5 from 1-100 :-\",res)"
   ]
  },
  {
   "cell_type": "code",
   "execution_count": 30,
   "id": "646da074-30ca-4698-b48f-f7fa144c69bf",
   "metadata": {},
   "outputs": [
    {
     "name": "stdout",
     "output_type": "stream",
     "text": [
      "The cube of numbers is divisible by 4 or 5 from 1-100 :- [64, 125, 512, 1000, 1728, 3375, 4096, 8000, 13824, 15625, 21952, 27000, 32768, 42875, 46656, 64000, 85184, 91125, 110592, 125000, 140608, 166375, 175616, 216000, 262144, 274625, 314432, 343000, 373248, 421875, 438976, 512000, 592704, 614125, 681472, 729000, 778688, 857375, 884736, 1000000]\n"
     ]
    }
   ],
   "source": [
    "# while loop\n",
    "#Creating Empty list\n",
    "l = []\n",
    "res = []\n",
    "#intializing number\n",
    "i =1\n",
    "#Checking no lessthan or equal to 100 \n",
    "while i <= 100:\n",
    "    l.append(i)\n",
    "    cube_root = i ** 3\n",
    "#checking condition if no divisible by 4 or 5 \n",
    "    if i % 4 == 0 or i % 5 == 0:\n",
    "        res.append(cube_root)\n",
    "    i += 1\n",
    "print(\"The cube of numbers is divisible by 4 or 5 from 1-100 :-\",res)\n"
   ]
  },
  {
   "cell_type": "markdown",
   "id": "27180df3-d118-42ff-a61c-7bda31158fa0",
   "metadata": {},
   "source": [
    "Q.4 Write a program to filter count vowels in the below-given string:\n",
    "string = \"I want to become a data scientist\""
   ]
  },
  {
   "cell_type": "code",
   "execution_count": 43,
   "id": "6d90cdd5-2f30-42e6-aae7-a7f6d3b68986",
   "metadata": {},
   "outputs": [
    {
     "name": "stdout",
     "output_type": "stream",
     "text": [
      "vowels nos are- 12\n"
     ]
    }
   ],
   "source": [
    "#Initializing The string\n",
    "string = \"I want to become a data scientist\"\n",
    "# creating a list of vowels\n",
    "vowels = [\"a\", \"e\", \"i\", \"o\", \"u\" , \"A\" , \"E\" , \"I\" , \"O\" , \"U\"]\n",
    "# initializing count variable\n",
    "count = 0\n",
    "for c in range(len(string)):\n",
    "    if string[c] in vowels:\n",
    "        count += 1\n",
    "print(\"Number of vowels in the given string is:-\",count)    "
   ]
  },
  {
   "cell_type": "code",
   "execution_count": null,
   "id": "5c5eeaa2-3840-46d7-88b8-2b598c80670b",
   "metadata": {},
   "outputs": [],
   "source": []
  }
 ],
 "metadata": {
  "kernelspec": {
   "display_name": "Python 3 (ipykernel)",
   "language": "python",
   "name": "python3"
  },
  "language_info": {
   "codemirror_mode": {
    "name": "ipython",
    "version": 3
   },
   "file_extension": ".py",
   "mimetype": "text/x-python",
   "name": "python",
   "nbconvert_exporter": "python",
   "pygments_lexer": "ipython3",
   "version": "3.10.6"
  }
 },
 "nbformat": 4,
 "nbformat_minor": 5
}
